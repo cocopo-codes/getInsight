{
 "cells": [
  {
   "cell_type": "code",
   "execution_count": 1,
   "id": "68d402a9-af05-415a-96c6-a05a6e6356ae",
   "metadata": {
    "slideshow": {
     "slide_type": "fragment"
    },
    "tags": [
     "insight-api"
    ]
   },
   "outputs": [
    {
     "ename": "ModuleNotFoundError",
     "evalue": "No module named 'pandas'",
     "output_type": "error",
     "traceback": [
      "\u001b[0;31m---------------------------------------------------------------------------\u001b[0m",
      "\u001b[0;31mModuleNotFoundError\u001b[0m                       Traceback (most recent call last)",
      "Cell \u001b[0;32mIn[1], line 3\u001b[0m\n\u001b[1;32m      1\u001b[0m \u001b[38;5;28;01mimport\u001b[39;00m \u001b[38;5;21;01mrequests\u001b[39;00m\n\u001b[1;32m      2\u001b[0m \u001b[38;5;28;01mimport\u001b[39;00m \u001b[38;5;21;01mjson\u001b[39;00m\n\u001b[0;32m----> 3\u001b[0m \u001b[38;5;28;01mimport\u001b[39;00m \u001b[38;5;21;01mpandas\u001b[39;00m \u001b[38;5;28;01mas\u001b[39;00m \u001b[38;5;21;01mpd\u001b[39;00m\n\u001b[1;32m      4\u001b[0m \u001b[38;5;28;01mfrom\u001b[39;00m \u001b[38;5;21;01mdatetime\u001b[39;00m \u001b[38;5;28;01mimport\u001b[39;00m date\n\u001b[1;32m      6\u001b[0m \u001b[38;5;66;03m# Get the latest feed\u001b[39;00m\n",
      "\u001b[0;31mModuleNotFoundError\u001b[0m: No module named 'pandas'"
     ]
    }
   ],
   "source": [
    "import requests\n",
    "import json\n",
    "import pandas as pd\n",
    "from datetime import date\n",
    "\n",
    "# Get the latest feed\n",
    "r = requests.get('https://api.nasa.gov/insight_weather/?api_key=DEMO_KEY&feedtype=json')\n",
    "\n",
    "# Get the Status code from the API call\n",
    "print(\"Response Status:\")\n",
    "print(r.status_code)\n",
    "\n",
    "#Create the date for the Excel sheet name\n",
    "today = date.today()\n",
    "date_run = today.strftime(\"%m%d%Y\")\n",
    "\n",
    "\n",
    "# Normalize the json response and download it as an Excel sheet\n",
    "df = pd.json_normalize(r.json())\n",
    "\n",
    "# Use current timestamp if date_run is not defined\n",
    "try:\n",
    "    sheet_name = date_run\n",
    "except NameError:\n",
    "    sheet_name = datetime.now().strftime('%Y-%m-%d')\n",
    "\n",
    "# Ensure sheet name is valid (Excel has restrictions on sheet names)\n",
    "sheet_name = ''.join(c for c in sheet_name if c.isalnum() or c in [' ', '_', '-'])[:31]\n",
    "\n",
    "# Export to Excel\n",
    "df.to_excel('./latest_insight_data.xlsx', sheet_name=sheet_name, index=False)\n",
    "\n",
    "# Get, convert, and print the response here\n",
    "# Convert the response to text for later print out\n",
    "insight_response = r.text\n",
    "\n",
    "#Convert to JSON objects\n",
    "json_object = json.loads(insight_response)\n",
    "\n",
    "#Format to make it pretty\n",
    "json_formatted_str = json.dumps(json_object, indent=2)\n",
    "\n",
    "#Print the pretty JSON response\n",
    "print(\"Response Content:\")\n",
    "print(json_formatted_str)"
   ]
  },
  {
   "cell_type": "code",
   "execution_count": 3,
   "id": "556d6a3b-871f-4afb-bfd2-d7483a74b87c",
   "metadata": {},
   "outputs": [
    {
     "name": "stdout",
     "output_type": "stream",
     "text": [
      "Mars Insight data exported to latest_insight_data.xlsx\n"
     ]
    },
    {
     "data": {
      "text/plain": [
       "'latest_insight_data.xlsx'"
      ]
     },
     "execution_count": 3,
     "metadata": {},
     "output_type": "execute_result"
    }
   ],
   "source": [
    "import requests\n",
    "import json\n",
    "import pandas as pd\n",
    "from datetime import date, datetime\n",
    "\n",
    "def export_mars_insight_data_to_excel(response_json, date_run=None, output_file='latest_insight_data.xlsx'):\n",
    "    \"\"\"\n",
    "    Export Mars Insight data to an Excel file with multiple sheets\n",
    "    \n",
    "    Args:\n",
    "        response_json (dict): JSON response from Mars Insight API\n",
    "        date_run (str, optional): Date to use in sheet name\n",
    "        output_file (str): Path to output Excel file\n",
    "    \"\"\"\n",
    "    # If response_json is a requests.Response object, get its JSON\n",
    "    if hasattr(response_json, 'json'):\n",
    "        response_json = response_json.json()\n",
    "    \n",
    "    # Safely extract data with default values\n",
    "    def safe_get(data, *keys, default='N/A'):\n",
    "        for key in keys:\n",
    "            try:\n",
    "                data = data[key]\n",
    "            except (KeyError, TypeError):\n",
    "                return default\n",
    "        return data\n",
    "    \n",
    "    # Check if sol_keys exist\n",
    "    sol_keys = response_json.get('sol_keys', [])\n",
    "    \n",
    "    # Use today's date if no date_run provided\n",
    "    if date_run is None:\n",
    "        date_run = date.today().strftime(\"%m%d%Y\")\n",
    "    \n",
    "    # Ensure sheet name is valid (Excel has restrictions on sheet names)\n",
    "    sheet_name = ''.join(c for c in date_run if c.isalnum() or c in [' ', '_', '-'])[:31]\n",
    "    \n",
    "    if not sol_keys:\n",
    "        print(\"No sol data available in the response.\")\n",
    "        return None\n",
    "    \n",
    "    # Prepare Excel writer\n",
    "    with pd.ExcelWriter(output_file, engine='openpyxl') as writer:\n",
    "        # Summary Sheet\n",
    "        summary_data = []\n",
    "        \n",
    "        for sol_key in sol_keys:\n",
    "            # Validity Checks\n",
    "            at_validity = safe_get(response_json, 'validity_checks', sol_key, 'AT', default={})\n",
    "            hws_validity = safe_get(response_json, 'validity_checks', sol_key, 'HWS', default={})\n",
    "            pre_validity = safe_get(response_json, 'validity_checks', sol_key, 'PRE', default={})\n",
    "            \n",
    "            summary_row = {\n",
    "                'Sol': sol_key,\n",
    "                'AT Hours with Data': ', '.join(map(str, safe_get(at_validity, 'sol_hours_with_data', default=[]))),\n",
    "                'AT Valid': safe_get(at_validity, 'valid', default='Unknown'),\n",
    "                'HWS Hours with Data': ', '.join(map(str, safe_get(hws_validity, 'sol_hours_with_data', default=[]))),\n",
    "                'HWS Valid': safe_get(hws_validity, 'valid', default='Unknown'),\n",
    "                'PRE Hours with Data': ', '.join(map(str, safe_get(pre_validity, 'sol_hours_with_data', default=[]))),\n",
    "                'PRE Valid': safe_get(pre_validity, 'valid', default='Unknown')\n",
    "            }\n",
    "            summary_data.append(summary_row)\n",
    "        \n",
    "        # Create Summary DataFrame and write to Excel\n",
    "        summary_df = pd.DataFrame(summary_data)\n",
    "        summary_df.to_excel(writer, sheet_name=sheet_name, index=False)\n",
    "        \n",
    "        # Optional: Add individual data sheets for each sol if needed\n",
    "        for sol_key in sol_keys:\n",
    "            try:\n",
    "                sol_data = response_json[sol_key]\n",
    "                sol_df = pd.json_normalize(sol_data)\n",
    "                sol_df.to_excel(writer, sheet_name=f'Sol_{sol_key}', index=False)\n",
    "            except Exception as e:\n",
    "                print(f\"Could not process data for Sol {sol_key}: {e}\")\n",
    "    \n",
    "    print(f\"Mars Insight data exported to {output_file}\")\n",
    "    return output_file\n",
    "\n",
    "# Replace the existing Excel export code with this function call\n",
    "export_mars_insight_data_to_excel(r)"
   ]
  },
  {
   "cell_type": "code",
   "execution_count": 1,
   "id": "96b35eb0",
   "metadata": {},
   "outputs": [
    {
     "name": "stdout",
     "output_type": "stream",
     "text": [
      "Python Information:\n",
      "Executable: /Users/coco/Documents/GitHub/getInsight/marsenv/bin/python\n",
      "Version: 3.13.1 (main, Dec  3 2024, 17:59:52) [Clang 16.0.0 (clang-1600.0.26.4)]\n",
      "Platform: macOS-15.1.1-arm64-arm-64bit-Mach-O\n",
      "\n",
      "Python Path:\n",
      "/opt/homebrew/Cellar/python@3.13/3.13.1/Frameworks/Python.framework/Versions/3.13/lib/python313.zip\n",
      "/opt/homebrew/Cellar/python@3.13/3.13.1/Frameworks/Python.framework/Versions/3.13/lib/python3.13\n",
      "/opt/homebrew/Cellar/python@3.13/3.13.1/Frameworks/Python.framework/Versions/3.13/lib/python3.13/lib-dynload\n",
      "\n",
      "/Users/coco/Documents/GitHub/getInsight/marsenv/lib/python3.13/site-packages\n",
      "\n",
      "Trying to import libraries:\n",
      "Pandas version: 2.2.3\n",
      "Numpy version: 2.2.2\n"
     ]
    }
   ],
   "source": [
    "import sys\n",
    "import platform\n",
    "\n",
    "print(\"Python Information:\")\n",
    "print(\"Executable:\", sys.executable)\n",
    "print(\"Version:\", sys.version)\n",
    "print(\"Platform:\", platform.platform())\n",
    "\n",
    "print(\"\\nPython Path:\")\n",
    "for path in sys.path:\n",
    "    print(path)\n",
    "\n",
    "print(\"\\nTrying to import libraries:\")\n",
    "import pandas as pd\n",
    "print(\"Pandas version:\", pd.__version__)\n",
    "\n",
    "import numpy as np\n",
    "print(\"Numpy version:\", np.__version__)"
   ]
  }
 ],
 "metadata": {
  "kernelspec": {
   "display_name": "Python 3 (ipykernel)",
   "language": "python",
   "name": "python3"
  },
  "language_info": {
   "codemirror_mode": {
    "name": "ipython",
    "version": 3
   },
   "file_extension": ".py",
   "mimetype": "text/x-python",
   "name": "python",
   "nbconvert_exporter": "python",
   "pygments_lexer": "ipython3",
   "version": "3.10.9"
  }
 },
 "nbformat": 4,
 "nbformat_minor": 5
}
